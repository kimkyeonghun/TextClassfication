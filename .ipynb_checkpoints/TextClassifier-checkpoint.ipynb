{
 "cells": [
  {
   "cell_type": "code",
   "execution_count": 1,
   "metadata": {},
   "outputs": [],
   "source": [
    "from konlpy.tag import Okt,Kkma,Komoran,Mecab,Hannanum\n",
    "from Exceptions import UndefineTokenizer\n",
    "import os\n",
    "import re"
   ]
  },
  {
   "cell_type": "code",
   "execution_count": 2,
   "metadata": {},
   "outputs": [],
   "source": [
    "def text_cleaner(text):\n",
    "        cleantext = []\n",
    "        publisher = r\"\\((.*?)\\)\"\n",
    "        braces = r\"\\[(.*?)\\]\"\n",
    "        braces2 = r\"\\{(.*?)\\}\"\n",
    "        braces3 = r\"\\【(.*?)\\】\"\n",
    "        writer = r\"특파원\"\n",
    "        writer2 = r\"기자\"\n",
    "        weird = r\"[=_\\.,;:~…\\\"\\\"\\'\\'◇%\\<\\>/·○★☆]\"\n",
    "        tab = r'\\\\t'\n",
    "        newline = r'\\\\n'\n",
    "        for line in text:\n",
    "            clean = re.sub(writer, '', line)\n",
    "            clean = re.sub(writer2, '', clean)\n",
    "            clean = re.sub(publisher,'', clean)\n",
    "            clean = re.sub(braces,'', clean)\n",
    "            clean = re.sub(braces2,'', clean)\n",
    "            clean = re.sub(braces3,'', clean)\n",
    "            clean = re.sub('[YTN,OSEN]','', clean)\n",
    "            clean = re.sub(weird,'', clean)\n",
    "            clean = re.sub(tab,'', clean)\n",
    "            clean = re.sub(newline,'',clean)\n",
    "            cleantext.append(clean)\n",
    "        return cleantext"
   ]
  },
  {
   "cell_type": "code",
   "execution_count": 5,
   "metadata": {},
   "outputs": [
    {
     "ename": "SyntaxError",
     "evalue": "invalid syntax (<ipython-input-5-2909858ae338>, line 21)",
     "output_type": "error",
     "traceback": [
      "\u001b[1;36m  File \u001b[1;32m\"<ipython-input-5-2909858ae338>\"\u001b[1;36m, line \u001b[1;32m21\u001b[0m\n\u001b[1;33m    print(folder+\" is clear!\\n\\n\")\u001b[0m\n\u001b[1;37m        ^\u001b[0m\n\u001b[1;31mSyntaxError\u001b[0m\u001b[1;31m:\u001b[0m invalid syntax\n"
     ]
    }
   ],
   "source": [
    "categoriesFolder = {\"정치\":0,\"경제\":1,\"사회\":2,\"생활문화\":3,\"세계\":4,\"IT과학\":5,\"연예\":6,\"스포츠\":7}\n",
    "Xdata=[]\n",
    "Ydata=[]\n",
    "def readNewsData(categoryName,newsNumber):\n",
    "    if categoryName==\"all\":\n",
    "        for folder in categoriesFolder.keys():\n",
    "            folderName = str(categoriesFolder.get(folder))\n",
    "            filePath=os.path.join('./newsData',folderName)\n",
    "            fileList=os.listdir(filePath)\n",
    "            temp=0\n",
    "            while temp!=newsNumber:\n",
    "                f=open(os.path.join(filePath,fileList[temp]),encoding='utf-8')\n",
    "                try:\n",
    "                    Xdata.append(f.read())\n",
    "                except:\n",
    "                    f=open(os.path.join(filePath,fileList[temp]),encoding='euc-kr')\n",
    "                    Xdata.append(f.read())\n",
    "                Ydata.append(folder)\n",
    "                temp+=1\n",
    "                print(str(os.path.join(filePath,fileList[temp])+\" saved\"))\n",
    "            print(folder+\" is clear!\\n\\n\")"
   ]
  },
  {
   "cell_type": "code",
   "execution_count": null,
   "metadata": {},
   "outputs": [],
   "source": [
    "readNewsData(\"all\",100000)"
   ]
  }
 ],
 "metadata": {
  "kernelspec": {
   "display_name": "Python 3",
   "language": "python",
   "name": "python3"
  },
  "language_info": {
   "codemirror_mode": {
    "name": "ipython",
    "version": 3
   },
   "file_extension": ".py",
   "mimetype": "text/x-python",
   "name": "python",
   "nbconvert_exporter": "python",
   "pygments_lexer": "ipython3",
   "version": "3.7.3"
  }
 },
 "nbformat": 4,
 "nbformat_minor": 2
}
